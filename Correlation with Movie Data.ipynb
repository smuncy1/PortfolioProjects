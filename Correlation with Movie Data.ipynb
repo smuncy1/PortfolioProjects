{
 "cells": [
  {
   "cell_type": "code",
   "execution_count": null,
   "id": "154f4678",
   "metadata": {},
   "outputs": [],
   "source": [
    "#Import Libraries\n",
    "import pandas as pd\n",
    "import seaborn as sns\n",
    "import numpy as np\n",
    "\n",
    "import matplotlib\n",
    "import matplotlib.pyplot as plt\n",
    "plt.style.use('ggplot')\n",
    "from matplotlib.pyplot import figure\n",
    "\n",
    "%matplotlib inline\n",
    "matplotlib.rcParams['figure.figsize'] = (12,8) #adjusts the configuration of plots\n",
    "\n",
    "#Read in the data\n",
    "\n",
    "df = pd.read_csv(r'C:\\Users\\stone\\Desktop\\movies.csv')\n"
   ]
  },
  {
   "cell_type": "code",
   "execution_count": null,
   "id": "d51f2b96",
   "metadata": {},
   "outputs": [],
   "source": [
    "#Look at the data\n",
    "\n",
    "df.head()"
   ]
  },
  {
   "cell_type": "code",
   "execution_count": null,
   "id": "f578d970",
   "metadata": {},
   "outputs": [],
   "source": [
    "#Looking for missing data\n",
    "df = df.dropna()\n",
    "\n",
    "for col in df.columns:\n",
    "    pct_missing = np.mean(df[col].isnull())\n",
    "    print('{} - {}%'.format(col, pct_missing))"
   ]
  },
  {
   "cell_type": "code",
   "execution_count": null,
   "id": "219756cb",
   "metadata": {},
   "outputs": [],
   "source": [
    "#Data types of columns\n",
    "\n",
    "df.dtypes"
   ]
  },
  {
   "cell_type": "code",
   "execution_count": null,
   "id": "b7a74ffa",
   "metadata": {},
   "outputs": [],
   "source": [
    "#Changing data types\n",
    "\n",
    "df['budget'] = df['budget'].astype('int64')\n",
    "df['gross'] = df['gross'].astype('int64')\n",
    "#df"
   ]
  },
  {
   "cell_type": "code",
   "execution_count": null,
   "id": "ef6fe788",
   "metadata": {},
   "outputs": [],
   "source": [
    "#Correcting release year errors\n",
    "\n",
    "df['year_correct'] = df['released'].str.extract(pat = '([0-9]{4})').astype(int)\n",
    "#df"
   ]
  },
  {
   "cell_type": "code",
   "execution_count": null,
   "id": "014b0505",
   "metadata": {},
   "outputs": [],
   "source": [
    "#df.sort_values(by=['gross'], inplace=False, ascending=False)"
   ]
  },
  {
   "cell_type": "code",
   "execution_count": null,
   "id": "62ec7265",
   "metadata": {},
   "outputs": [],
   "source": [
    "pd.set_option('display.max_rows', None)"
   ]
  },
  {
   "cell_type": "code",
   "execution_count": null,
   "id": "6fd66f31",
   "metadata": {},
   "outputs": [],
   "source": [
    "#Drop duplicates\n",
    "\n",
    "#df['company'].drop_duplicates().sort_values(ascending = False)"
   ]
  },
  {
   "cell_type": "code",
   "execution_count": null,
   "id": "c66b2808",
   "metadata": {},
   "outputs": [],
   "source": [
    "#Scatter plot with budget vs gross revenue\n",
    "\n",
    "\n",
    "plt.scatter(x = df['budget'], y = df['gross'])\n",
    "plt.title('Budget vs Gross Earning')\n",
    "plt.xlabel('Gross earnings')\n",
    "plt.ylabel('Budget for Film')\n",
    "#plt.show()"
   ]
  },
  {
   "cell_type": "code",
   "execution_count": null,
   "id": "562008da",
   "metadata": {
    "scrolled": true
   },
   "outputs": [],
   "source": [
    "# Regression plot budget vs gross\n",
    "#sns.regplot(x = 'budget', y = 'gross', data = df, scatter_kws = {\"color\": \"black\"}, line_kws = {\"color\":\"orange\"})"
   ]
  },
  {
   "cell_type": "code",
   "execution_count": null,
   "id": "e11f322e",
   "metadata": {},
   "outputs": [],
   "source": [
    "df.corr()"
   ]
  },
  {
   "cell_type": "code",
   "execution_count": null,
   "id": "2277f6ca",
   "metadata": {},
   "outputs": [],
   "source": [
    "correlation_matrix = df.corr(method = 'pearson')\n",
    "sns.heatmap(correlation_matrix, annot = True)\n",
    "plt.title('Corellation Matrix for Numeric Features')\n",
    "plt.xlabel('Movie Features')\n",
    "plt.ylabel('Movie Features')\n",
    "\n",
    "#plt.show()"
   ]
  },
  {
   "cell_type": "code",
   "execution_count": null,
   "id": "eeb32881",
   "metadata": {},
   "outputs": [],
   "source": [
    "df_numerized = df\n",
    "for col_name in df_numerized.columns:\n",
    "    if(df_numerized[col_name].dtype == 'object'):\n",
    "        df_numerized[col_name] = df_numerized[col_name].astype('category')\n",
    "        df_numerized[col_name] = df_numerized[col_name].cat.codes\n",
    "        \n",
    "#df_numerized"
   ]
  },
  {
   "cell_type": "code",
   "execution_count": null,
   "id": "7bf97a08",
   "metadata": {},
   "outputs": [],
   "source": [
    "correlation_matrix = df_numerized.corr(method = 'pearson')\n",
    "sns.heatmap(correlation_matrix, annot = True)\n",
    "plt.title('Corellation Matrix for Numeric Features')\n",
    "plt.xlabel('Movie Features')\n",
    "plt.ylabel('Movie Features')\n",
    "\n",
    "#plt.show()"
   ]
  },
  {
   "cell_type": "code",
   "execution_count": null,
   "id": "7be9dbc0",
   "metadata": {},
   "outputs": [],
   "source": [
    "df_numerized.corr()"
   ]
  },
  {
   "cell_type": "code",
   "execution_count": null,
   "id": "b4d691ed",
   "metadata": {},
   "outputs": [],
   "source": [
    "correlation_mat = df_numerized.corr()\n",
    "\n",
    "corr_pairs = correlation_mat.unstack()\n",
    "\n",
    "#corr_pairs"
   ]
  },
  {
   "cell_type": "code",
   "execution_count": null,
   "id": "cd8feaa2",
   "metadata": {},
   "outputs": [],
   "source": [
    "sorted_pairs = corr_pairs.sort_values(ascending = False)\n",
    "\n",
    "#sorted_pairs"
   ]
  },
  {
   "cell_type": "code",
   "execution_count": null,
   "id": "84c71bf3",
   "metadata": {},
   "outputs": [],
   "source": [
    "high_correlation = sorted_pairs[(sorted_pairs) > 0.5]\n",
    "\n",
    "high_correlation"
   ]
  },
  {
   "cell_type": "code",
   "execution_count": null,
   "id": "232de105",
   "metadata": {},
   "outputs": [],
   "source": [
    "#Votes and Budgets have the highest correlation to gross earnings"
   ]
  }
 ],
 "metadata": {
  "kernelspec": {
   "display_name": "Python 3 (ipykernel)",
   "language": "python",
   "name": "python3"
  },
  "language_info": {
   "codemirror_mode": {
    "name": "ipython",
    "version": 3
   },
   "file_extension": ".py",
   "mimetype": "text/x-python",
   "name": "python",
   "nbconvert_exporter": "python",
   "pygments_lexer": "ipython3",
   "version": "3.9.7"
  }
 },
 "nbformat": 4,
 "nbformat_minor": 5
}
