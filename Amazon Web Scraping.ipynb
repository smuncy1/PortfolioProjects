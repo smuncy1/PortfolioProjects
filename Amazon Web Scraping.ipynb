{
 "cells": [
  {
   "cell_type": "code",
   "execution_count": 1,
   "id": "d4bf70e9",
   "metadata": {},
   "outputs": [],
   "source": [
    "#Import libraries\n",
    "\n",
    "from bs4 import BeautifulSoup\n",
    "import requests\n",
    "import smtplib\n",
    "import time\n",
    "import datetime"
   ]
  },
  {
   "cell_type": "code",
   "execution_count": 2,
   "id": "7cf03ca8",
   "metadata": {},
   "outputs": [],
   "source": [
    "#Connect to website\n",
    "\n",
    "URL = 'https://www.amazon.com/Python-All-One-Dummies-Computer/dp/1119787602/ref=sr_1_1?keywords=python+for+dummies&qid=1644012342&sr=8-1'\n",
    "headers = {\"User-Agent\": \"Mozilla/5.0 (Windows NT 10.0; Win64; x64) AppleWebKit/537.36 (KHTML, like Gecko) Chrome/97.0.4692.71 Safari/537.36\", \"Accept-Encoding\":\"gzip, deflate\", \"Accept\":\"text/html,application/xhtml+xml,application/xml;q=0.9,*/*;q=0.8\", \"DNT\":\"1\",\"Connection\":\"close\", \"Upgrade-Insecure-Requests\":\"1\"}\n",
    "page = requests.get(URL, headers = headers)\n",
    "soup1 = BeautifulSoup(page.content, \"html.parser\")\n",
    "\n",
    "\n",
    "\n",
    "\n",
    "\n",
    "\n",
    "\n",
    "\n",
    "\n"
   ]
  },
  {
   "cell_type": "code",
   "execution_count": 3,
   "id": "cc4206f9",
   "metadata": {},
   "outputs": [],
   "source": [
    "soup2 = BeautifulSoup(soup1.prettify(), 'html.parser')\n",
    "\n",
    "#print(soup2)\n"
   ]
  },
  {
   "cell_type": "code",
   "execution_count": null,
   "id": "af43d977",
   "metadata": {},
   "outputs": [],
   "source": [
    "title = soup2.find(id = 'productTitle').get_text()\n",
    "print(title)\n",
    "\n",
    "price = soup2.find(id = 'newBuyBoxPrice').get_text()\n",
    "print(price)\n",
    "\n",
    "available = soup2.find(id = 'availability').get_text()\n",
    "print(available)\n",
    "\n",
    "rating = soup2.find(id = 'acrPopover').get_text()\n",
    "print(rating)"
   ]
  },
  {
   "cell_type": "code",
   "execution_count": 84,
   "id": "ecf2a38e",
   "metadata": {},
   "outputs": [
    {
     "name": "stdout",
     "output_type": "stream",
     "text": [
      "2022-02-04\n"
     ]
    }
   ],
   "source": [
    "today = datetime.date.today()\n",
    "print(today)"
   ]
  },
  {
   "cell_type": "code",
   "execution_count": 85,
   "id": "ae5f0c68",
   "metadata": {},
   "outputs": [
    {
     "name": "stdout",
     "output_type": "stream",
     "text": [
      "31.49\n",
      "Python All-in-One For Dummies (For Dummies (Computer/Tech))\n",
      "In Stock.\n",
      "4.4\n"
     ]
    }
   ],
   "source": [
    "price = price.strip()[1:]\n",
    "print(price)\n",
    "\n",
    "title = title.strip()\n",
    "print(title)\n",
    "\n",
    "available = available.strip()\n",
    "print(available)\n",
    "\n",
    "rating = rating.strip()[:3]\n",
    "print(rating)"
   ]
  },
  {
   "cell_type": "code",
   "execution_count": 72,
   "id": "9ad24b67",
   "metadata": {},
   "outputs": [],
   "source": [
    "#Create and add data to csv\n",
    "\n",
    "import csv\n",
    "\n",
    "header = ['Title', 'Price', 'Available','Rating', 'Date']\n",
    "data = [title, price, available, rating, today]\n",
    "\n",
    "#with open('Amazon data.csv', 'w', newline='', encoding = 'UTF8') as f:\n",
    "   # writer = csv.writer(f)\n",
    "   # writer.writerow(header)\n",
    "   # writer.writerow(data)"
   ]
  },
  {
   "cell_type": "code",
   "execution_count": null,
   "id": "d7358cff",
   "metadata": {},
   "outputs": [],
   "source": [
    "import pandas as pd\n",
    "\n",
    "df = pd.read_csv(r'C:\\Users\\stone\\Amazon data.csv')\n",
    "print(df)"
   ]
  },
  {
   "cell_type": "code",
   "execution_count": 86,
   "id": "23fa8dc6",
   "metadata": {},
   "outputs": [],
   "source": [
    "#Appending data to csv\n",
    "\n",
    "with open('Amazon data.csv', 'a+', newline='', encoding = 'UTF8') as f:\n",
    "    writer = csv.writer(f)\n",
    "    writer.writerow(data)"
   ]
  },
  {
   "cell_type": "code",
   "execution_count": 106,
   "id": "c2101ec9",
   "metadata": {},
   "outputs": [],
   "source": [
    "\n",
    "def check_price():\n",
    "    URL = 'https://www.amazon.com/Python-All-One-Dummies-Computer/dp/1119787602/ref=sr_1_1?keywords=python+for+dummies&qid=1644012342&sr=8-1'\n",
    "    headers = {\"User-Agent\": \"Mozilla/5.0 (Windows NT 10.0; Win64; x64) AppleWebKit/537.36 (KHTML, like Gecko) Chrome/97.0.4692.71 Safari/537.36\", \"Accept-Encoding\":\"gzip, deflate\", \"Accept\":\"text/html,application/xhtml+xml,application/xml;q=0.9,*/*;q=0.8\", \"DNT\":\"1\",\"Connection\":\"close\", \"Upgrade-Insecure-Requests\":\"1\"}\n",
    "    page = requests.get(URL, headers = headers)\n",
    "    \n",
    "    soup1 = BeautifulSoup(page.content, \"html.parser\")\n",
    "    \n",
    "    soup2 = BeautifulSoup(soup1.prettify(), 'html.parser')\n",
    "    \n",
    "    title = soup2.find(id = 'productTitle').get_text()\n",
    "    \n",
    "    price = soup2.find(id = 'newBuyBoxPrice').get_text()\n",
    "    \n",
    "    available = soup2.find(id = 'availability').get_text()\n",
    "    \n",
    "    rating = soup2.find(id = 'acrPopover').get_text()\n",
    "    \n",
    "    price = price.strip()[1:]\n",
    "\n",
    "    title = title.strip()\n",
    "\n",
    "    available = available.strip()\n",
    "\n",
    "    rating = rating.strip()[:3]\n",
    "    \n",
    "    import datetime\n",
    "    \n",
    "    today = datetime.date.today()\n",
    "    \n",
    "    import csv\n",
    "\n",
    "    header = ['Title', 'Price', 'Available','Rating', 'Date']\n",
    "\n",
    "    data = [title, price, available, rating, today]\n",
    "    \n",
    "    with open('Amazon data.csv', 'a+', newline='', encoding = 'UTF8') as f:\n",
    "        writer = csv.writer(f)\n",
    "        writer.writerow(data)\n",
    "    \n",
    "    if(price < 25):\n",
    "        send_mail()\n",
    "\n",
    "\n"
   ]
  },
  {
   "cell_type": "code",
   "execution_count": null,
   "id": "3a177e8d",
   "metadata": {},
   "outputs": [],
   "source": [
    "  "
   ]
  },
  {
   "cell_type": "code",
   "execution_count": 89,
   "id": "16277d2f",
   "metadata": {},
   "outputs": [
    {
     "data": {
      "text/plain": [
       "str"
      ]
     },
     "execution_count": 89,
     "metadata": {},
     "output_type": "execute_result"
    }
   ],
   "source": [
    "type(title)"
   ]
  },
  {
   "cell_type": "code",
   "execution_count": null,
   "id": "a48c5774",
   "metadata": {},
   "outputs": [],
   "source": [
    "while(True):\n",
    "    check_price()\n",
    "    time.sleep(5)"
   ]
  },
  {
   "cell_type": "code",
   "execution_count": null,
   "id": "d6a69444",
   "metadata": {},
   "outputs": [],
   "source": [
    "  def send_mail():\n",
    "    server = smtplib.SMTP_SSL('smtp.gmail.com',465)\n",
    "    server.ehlo()\n",
    "    #server.starttls()\n",
    "    server.ehlo()\n",
    "    server.login('stone.muncy1@gmail.com','xxxxxxxxxxxxxx')\n",
    "    \n",
    "    subject = \"The book is under $25! Now is your chance to buy!\"\n",
    "    body = \"Stone, your book is ready to order. The link is https://www.amazon.com/Python-All-One-Dummies-Computer/dp/1119787602/ref=sr_1_1?keywords=python+for+dummies&qid=1644012342&sr=8-1\n",
    "   \n",
    "    msg = f\"Subject: {subject}\\n\\n{body}\"\n",
    "    \n",
    "    server.sendmail(\n",
    "        'stone.muncy1@gmail.com',\n",
    "        msg\n",
    "     \n",
    "    )"
   ]
  },
  {
   "cell_type": "code",
   "execution_count": 108,
   "id": "38da6e54",
   "metadata": {},
   "outputs": [
    {
     "name": "stdout",
     "output_type": "stream",
     "text": [
      "                                               Title  Price  Available  \\\n",
      "0  Python All-in-One For Dummies (For Dummies (Co...  31.49  In Stock.   \n",
      "1  Python All-in-One For Dummies (For Dummies (Co...  31.49  In Stock.   \n",
      "2  Python All-in-One For Dummies (For Dummies (Co...  31.49  In Stock.   \n",
      "3  Python All-in-One For Dummies (For Dummies (Co...  31.49  In Stock.   \n",
      "4  Python All-in-One For Dummies (For Dummies (Co...  31.49  In Stock.   \n",
      "5  Python All-in-One For Dummies (For Dummies (Co...  31.49  In Stock.   \n",
      "6  Python All-in-One For Dummies (For Dummies (Co...  31.49  In Stock.   \n",
      "\n",
      "   Rating        Date  \n",
      "0     4.4  2022-02-04  \n",
      "1     4.4  2022-02-04  \n",
      "2     4.4  2022-02-04  \n",
      "3     4.4  2022-02-04  \n",
      "4     4.4  2022-02-04  \n",
      "5     4.4  2022-02-04  \n",
      "6     4.4  2022-02-04  \n"
     ]
    }
   ],
   "source": [
    "import pandas as pd\n",
    "\n",
    "df = pd.read_csv(r'C:\\Users\\stone\\Amazon data.csv')\n",
    "print(df)"
   ]
  }
 ],
 "metadata": {
  "kernelspec": {
   "display_name": "Python 3 (ipykernel)",
   "language": "python",
   "name": "python3"
  },
  "language_info": {
   "codemirror_mode": {
    "name": "ipython",
    "version": 3
   },
   "file_extension": ".py",
   "mimetype": "text/x-python",
   "name": "python",
   "nbconvert_exporter": "python",
   "pygments_lexer": "ipython3",
   "version": "3.9.7"
  }
 },
 "nbformat": 4,
 "nbformat_minor": 5
}
